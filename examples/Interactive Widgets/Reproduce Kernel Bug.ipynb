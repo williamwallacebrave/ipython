{
 "metadata": {
  "name": "",
  "signature": "sha256:670c4c5d57a55658f4de145bac7a4f74f27a9ef880e02d2d469c2322b2111fbc"
 },
 "nbformat": 3,
 "nbformat_minor": 0,
 "worksheets": [
  {
   "cells": [
    {
     "cell_type": "code",
     "collapsed": false,
     "input": [
      "a = [i for i in range(1000000)]"
     ],
     "language": "python",
     "metadata": {},
     "outputs": [],
     "prompt_number": 372
    }
   ],
   "metadata": {}
  }
 ]
}